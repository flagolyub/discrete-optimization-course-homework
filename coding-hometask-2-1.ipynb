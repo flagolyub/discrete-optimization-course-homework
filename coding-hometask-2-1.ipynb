{
 "cells": [
  {
   "cell_type": "markdown",
   "metadata": {
    "deletable": true,
    "editable": true
   },
   "source": [
    "# Задание по курсу «Дискретная оптимизация», МФТИ, весна 2017"
   ]
  },
  {
   "cell_type": "markdown",
   "metadata": {
    "deletable": true,
    "editable": true
   },
   "source": [
    "## Задача 2-1. Применяем простейший локальный поиск.\n",
    "\n",
    "В этой задаче Вам предлагается попробовать стандартную технику локального поиска (local search) в применении к задаче о сбалансированном разбиении графа. Мы будем рассматривать безвесовый вариант задачи с параметром балансировки $\\alpha=\\frac{1}{2}$:\n",
    "\n",
    "**Даны:**\n",
    "* $G=(V,E)$ — граф без весов на рёбрах\n",
    "\n",
    "**Найти:**\n",
    "* Разбиение $V=V'\\sqcup V''$, такое, что $V'=\\lfloor |V|/2 \\rfloor$ и число рёбер между $V'$ и $V''$ минимально возможное.\n",
    "\n",
    "Сделайте следующее:\n",
    "* [Скачайте](http://mat.gsia.cmu.edu/COLOR/instances.html#XXMYC) файлы mycielX.col  (`for X in range(1,8)`).  (Если интересно, откуда такие графы берутся и чем интересны, см. конструкцию Зыкова—Мыцельского [здесь](https://docs.com/dainiak/3327).)\n",
    "* Для каждого из графов найдите локальным поиском локально минимальное (по количеству рёбер между частями) разбиение вершин графа на две части, мощности которых отличаются не более чем на единицу. \n",
    "* Ваша функция `basic_local_search` должна принимать на вход граф в формате, предоставляемом функцией `read_col_file`, и возвращать найденное локально минимальное разбиение просто как множество либо список вершин, лежащих в одной любой из двух компонент разбиения."
   ]
  },
  {
   "cell_type": "code",
   "execution_count": 1,
   "metadata": {
    "collapsed": true,
    "deletable": true,
    "editable": true
   },
   "outputs": [],
   "source": [
    "def read_col_file(filename):\n",
    "    with open(filename, 'r') as file:\n",
    "        vertices, edges = set(), set()\n",
    "        for line in file:\n",
    "            line = line.strip()\n",
    "            if line.startswith('p'):\n",
    "                vertices = set(range(1, int(line.split()[-2]) + 1))\n",
    "            elif line.startswith('e'):\n",
    "                edges.add(tuple(map(int, line.split()[-2:])))\n",
    "        return (vertices, edges)"
   ]
  },
  {
   "cell_type": "code",
   "execution_count": 51,
   "metadata": {
    "collapsed": false,
    "deletable": true,
    "editable": true
   },
   "outputs": [
    {
     "data": {
      "text/plain": [
       "({2, 3, 5, 8, 9}, 8)"
      ]
     },
     "execution_count": 51,
     "metadata": {},
     "output_type": "execute_result"
    }
   ],
   "source": [
    "import random\n",
    "\n",
    "def cut_weight(edges, V_1):\n",
    "    weight = 0 # сколько ребер в текущем разрезе\n",
    "    for e in edges: \n",
    "        if (not(e[0] in V_1) and e[1] in V_1) or (e[0] in V_1 and not(e[1] in V_1)):\n",
    "            weight += 1\n",
    "            \n",
    "    return weight\n",
    "\n",
    "def choose_best_in_locality(edges, vertexes, V_1):\n",
    "    current_cut_weight = cut_weight(edges, V_1)\n",
    "    best_V1 = V_1\n",
    "    V_2 = vertexes - V_1\n",
    "    for v1 in V_1:\n",
    "        for v2 in V_2:\n",
    "            V1_upd = V_1.copy()\n",
    "            V1_upd.remove(v1)\n",
    "            V1_upd.add(v2)\n",
    "            if cut_weight(edges, V1_upd) < current_cut_weight:\n",
    "                current_cut_weight = cut_weight(edges, V1_upd)\n",
    "                best_V1 = V1_upd\n",
    "                \n",
    "    return (best_V1, current_cut_weight)\n",
    "    \n",
    "            \n",
    "    \n",
    "\n",
    "def basic_local_search(graph):\n",
    "    \n",
    "    vertexes, vertex_count, edges = graph[0], len(graph[0]), graph[1]\n",
    "    \n",
    "    V_1 = random.sample(list(vertexes), vertex_count // 2)\n",
    "    V_1 = set(V_1)\n",
    "    \n",
    "    while(True):\n",
    "        new_V1, new_V1_weight = choose_best_in_locality(edges, vertexes, V_1)\n",
    "        if cut_weight(edges, V_1) == new_V1_weight:\n",
    "            break\n",
    "        else:\n",
    "            V_1 = new_V1\n",
    "\n",
    "    ans = cut_weight(edges, V_1)\n",
    "    \n",
    "    return V_1, ans\n",
    "\n",
    "graph = read_col_file(\"myciel3.col\")\n",
    "basic_local_search(graph)"
   ]
  },
  {
   "cell_type": "code",
   "execution_count": 52,
   "metadata": {
    "collapsed": false
   },
   "outputs": [
    {
     "name": "stdout",
     "output_type": "stream",
     "text": [
      "myciel3.col:\n",
      "{4, 6, 8, 10, 11} , answer -->  8\n",
      "myciel4.col:\n",
      "{2, 6, 10, 11, 14, 15, 17, 19, 20, 21, 23} , answer -->  29\n",
      "myciel5.col:\n",
      "{8, 9, 11, 19, 20, 22, 23, 28, 29, 30, 32, 33, 34, 35, 36, 39, 40, 41, 42, 43, 44, 45, 47} , answer -->  95\n",
      "myciel6.col:\n",
      "{1, 3, 6, 7, 10, 11, 12, 14, 15, 17, 18, 19, 20, 21, 22, 24, 25, 26, 28, 29, 30, 33, 34, 46, 49, 51, 54, 56, 57, 58, 60, 61, 62, 65, 66, 67, 68, 69, 72, 74, 75, 77, 79, 80, 81, 88, 93} , answer -->  293\n",
      "myciel7.col:\n",
      "{3, 11, 17, 18, 19, 20, 21, 23, 24, 26, 28, 29, 31, 34, 35, 37, 39, 40, 41, 42, 43, 44, 46, 49, 50, 51, 55, 56, 58, 64, 65, 66, 67, 68, 70, 73, 78, 81, 87, 88, 89, 90, 91, 93, 94, 95, 97, 100, 106, 108, 111, 112, 113, 114, 115, 116, 118, 123, 129, 130, 131, 134, 135, 136, 137, 138, 139, 142, 144, 146, 147, 149, 151, 152, 153, 155, 157, 158, 159, 160, 161, 162, 163, 165, 176, 178, 181, 182, 183, 184, 185, 186, 188, 189, 191} , answer -->  936\n"
     ]
    }
   ],
   "source": [
    "for i in range(3, 8):\n",
    "    file_name = \"myciel\" + str(i) + \".col\"\n",
    "    print(file_name + \":\")\n",
    "    graph = read_col_file(file_name)\n",
    "    V_1 , ans = basic_local_search(graph)\n",
    "    print(V_1, \", answer --> \", ans)\n",
    "        "
   ]
  },
  {
   "cell_type": "code",
   "execution_count": null,
   "metadata": {
    "collapsed": true
   },
   "outputs": [],
   "source": []
  }
 ],
 "metadata": {
  "kernelspec": {
   "display_name": "Python 3",
   "language": "python",
   "name": "python3"
  },
  "language_info": {
   "codemirror_mode": {
    "name": "ipython",
    "version": 3
   },
   "file_extension": ".py",
   "mimetype": "text/x-python",
   "name": "python",
   "nbconvert_exporter": "python",
   "pygments_lexer": "ipython3",
   "version": "3.5.2"
  }
 },
 "nbformat": 4,
 "nbformat_minor": 2
}
