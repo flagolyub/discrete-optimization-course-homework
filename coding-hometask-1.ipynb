{
 "cells": [
  {
   "cell_type": "markdown",
   "metadata": {
    "deletable": true,
    "editable": true
   },
   "source": [
    "# Задание по курсу «Дискретная оптимизация», МФТИ, весна 2017"
   ]
  },
  {
   "cell_type": "markdown",
   "metadata": {
    "deletable": true,
    "editable": true
   },
   "source": [
    "## Задача 1-1\n",
    "## Учимся переводить между decision/evaluation/search на примере Bin Packing\n",
    "\n",
    "**Даны:** \n",
    "* $[w_1, \\dots , w_k], w_i \\in [0, 1]$ — веса грузов  \n",
    "* $n_{\\text{bins}}$ — количество корзин грузоподъемностью 1.\n",
    "\n",
    "Предполагается, что функция `solve_bp_decision(weights, n_bins)` решает «распознавательный» (decision) вариант задачи bin packing. На вход ей подаётся список весов и число корзин. Функция возвращает булевский ответ на вопрос «можно ли заданные веса раскидать по не более чем `n_bins` контейнерам? \n",
    "\n",
    "Напишите содержимое функции `solve_bp_evaluation`, которая возвращает оптимальное число корзин (решает evaluation variant задачи bin packing). \n",
    "\n",
    "Затем напишите содержимое функции `solve_bp_search`, которая возвращает список номеров корзин, которые при каком-нибудь оптимальном распределении присваиваются весам из списка `weights` (корзины нумеруются с единицы). \n",
    "\n",
    "Каждая из следующих функций должна вызывать предыдущую не более чем полиномиальное число раз."
   ]
  },
  {
   "cell_type": "code",
   "execution_count": 50,
   "metadata": {
    "collapsed": false,
    "deletable": true,
    "editable": true
   },
   "outputs": [
    {
     "data": {
      "text/plain": [
       "(False, True)"
      ]
     },
     "execution_count": 50,
     "metadata": {},
     "output_type": "execute_result"
    }
   ],
   "source": [
    "def solve_bp_decision(weights: list, n_bins: int) -> bool:\n",
    "    def able_to_pack(weights: list, bin_capacities) -> bool:\n",
    "        return weights == [] or any( \n",
    "            able_to_pack( weights[:-1], bin_capacities[:i] + [capacity - weights[-1]] + bin_capacities[(i + 1):] ) \n",
    "            for i, capacity in enumerate(bin_capacities) if capacity >= weights[-1] \n",
    "        )\n",
    "\n",
    "    return able_to_pack( sorted(weights), [1.0] * n_bins )\n",
    "\n",
    "# To test this, run:\n",
    "solve_bp_decision([0.8, 0.09, 0.4, 0.7], 2), solve_bp_decision([0.8, 0.09, 0.4, 0.7], 3)"
   ]
  },
  {
   "cell_type": "code",
   "execution_count": 130,
   "metadata": {
    "collapsed": false,
    "deletable": true,
    "editable": true
   },
   "outputs": [
    {
     "data": {
      "text/plain": [
       "(3, 6)"
      ]
     },
     "execution_count": 130,
     "metadata": {},
     "output_type": "execute_result"
    }
   ],
   "source": [
    "def solve_bp_evaluation(weights: list) -> int:\n",
    "    # Бинпоиск по ответу\n",
    "    lower = 0\n",
    "    upper = len(weights)\n",
    "    while (upper - lower) > 1:   \n",
    "        x = lower + (upper - lower) // 2\n",
    "        if solve_bp_decision(weights, x):\n",
    "            upper = x\n",
    "        else:\n",
    "            lower = x\n",
    "    return upper        \n",
    "#   … your code here\n",
    "#   return min_n_bins\n",
    "    pass\n",
    "\n",
    "solve_bp_evaluation([0.8, 0.09, 0.4, 0.7]), solve_bp_evaluation([0.1, 0.2, 0.3, 0.4, 0.5, 0.6, 0.7, 0.8, 0.9, 0.95])"
   ]
  },
  {
   "cell_type": "code",
   "execution_count": 135,
   "metadata": {
    "collapsed": false,
    "deletable": true,
    "editable": true
   },
   "outputs": [
    {
     "data": {
      "text/plain": [
       "([1, 1, 2, 3, 1, 3, 2, 4, 5, 6], [1, 1, 2, 3])"
      ]
     },
     "execution_count": 135,
     "metadata": {},
     "output_type": "execute_result"
    }
   ],
   "source": [
    "def solve_bp_search(weights: list):\n",
    "    solution = [-1] * len(weights)\n",
    "    # Основная идея: если solve_bp_evaluation([x1, x2, x3, ...]) = solve_bp_evaluation([x1+x2, 0, x3...]), \n",
    "    # то существует оптимальная укладка, в которой первый и второй грузы лежат в одной корзине. Тогда эти грузы можно \n",
    "    # склеить в один с весом x1+x2\n",
    "    answer = solve_bp_evaluation(weights)\n",
    "    curr = 0 # текущая корзина \n",
    "    for i in range(len(weights)):\n",
    "        if solution[i] == -1:\n",
    "            solution[i] = curr + 1 \n",
    "            for j in range(len(weights)):\n",
    "                if solution[j] == -1:\n",
    "                    curr_weight = weights[j]\n",
    "                    if weights[i] + weights[j] > 1:\n",
    "                        continue\n",
    "                    weights_1 = weights.copy()\n",
    "                    weights_1[i] += weights_1[j]\n",
    "                    weights_1[j] = 0\n",
    "                    if solve_bp_evaluation(weights_1) == answer:\n",
    "                        solution[j] = curr + 1\n",
    "                        weights = weights_1    \n",
    "            curr += 1\n",
    "    return solution       \n",
    "            \n",
    "        \n",
    "\n",
    "#   … your code here\n",
    "#   return solution # list\n",
    "    pass\n",
    "solve_bp_search([0.1, 0.2, 0.3, 0.4, 0.5, 0.6, 0.7, 0.8, 0.9, 0.95]), solve_bp_search([0.8, 0.09, 0.4, 0.7]),\n",
    "#solve_bp_search([0.1, 0.2, 0.3, 0.4, 0.5, 0.6, 0.7, 0.8, 0.9, 0.1])"
   ]
  },
  {
   "cell_type": "code",
   "execution_count": 153,
   "metadata": {
    "collapsed": false,
    "deletable": true,
    "editable": true
   },
   "outputs": [
    {
     "name": "stdout",
     "output_type": "stream",
     "text": [
      "[0.007373675545275238, 0.360199023147484, 0.42226438010875356, 0.46269474947372113, 0.610655217444486, 0.8654175483373892, 0.8992832494141025, 0.8411844185988167, 0.5683161637328914, 0.06447212718145268] [1, 1, 2, 1, 3, 4, 5, 6, 2, 1] 6\n",
      "OK\n"
     ]
    }
   ],
   "source": [
    "\n",
    "import random\n",
    "our_weights = []\n",
    "for i in range(10):\n",
    "    our_weights.append(random.random())\n",
    "    \n",
    "search = solve_bp_search(our_weights) \n",
    "print(our_weights, search, solve_bp_evaluation(our_weights))\n",
    "flag = True\n",
    "if solve_bp_evaluation(our_weights) != max(search):\n",
    "    flag = False\n",
    "else:\n",
    "    bins_n = max(search)\n",
    "    for i in range(bins_n):\n",
    "        summ = 0\n",
    "        for j in range(len(search)):\n",
    "            if search[j] == i + 1:\n",
    "                summ += our_weights[j]\n",
    "                if summ > 1:\n",
    "                    flag = False\n",
    "if flag:\n",
    "    print(\"OK\")\n"
   ]
  },
  {
   "cell_type": "code",
   "execution_count": null,
   "metadata": {
    "collapsed": true,
    "deletable": true,
    "editable": true
   },
   "outputs": [],
   "source": []
  }
 ],
 "metadata": {
  "kernelspec": {
   "display_name": "Python 3",
   "language": "python",
   "name": "python3"
  },
  "language_info": {
   "codemirror_mode": {
    "name": "ipython",
    "version": 3
   },
   "file_extension": ".py",
   "mimetype": "text/x-python",
   "name": "python",
   "nbconvert_exporter": "python",
   "pygments_lexer": "ipython3",
   "version": "3.5.2"
  }
 },
 "nbformat": 4,
 "nbformat_minor": 0
}
