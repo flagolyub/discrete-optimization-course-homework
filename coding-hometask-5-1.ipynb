{
 "cells": [
  {
   "cell_type": "markdown",
   "metadata": {},
   "source": [
    "## Задача 5-1. A\\* поиск в задаче о кратчайших путях.\n",
    "\n",
    "В этой задаче Вам предлагается реализовать поиск кратчайших путей в графе с помощью A\\*-поиска с использованием эвристической функции («потенциала»), основанном на landmarks. Теоретические основы можно посмотреть [здесь](http://logic.pdmi.ras.ru/midas/sites/default/files/midas-werneck.pdf), слайды 20—36.\n",
    "\n",
    "Вам предлагается скачать [отсюда](http://www.diag.uniroma1.it/challenge9/download.shtml) файлы “Travel time graph” и “Coordinates” для штата Флорида. Для Вашего удобства они также размещены в архиве `florida.7z` в настоящем репозитории на GitHub.\n",
    "\n",
    "Функции `read_node_coords` и `read_arcs` возвращают соответственно координаты вершин графа (отнормированные; координаты нужны только для обеспечения возможности выбора landmarks “по периметру графа”) и структура дуг графа."
   ]
  },
  {
   "cell_type": "code",
   "execution_count": 1,
   "metadata": {
    "collapsed": true
   },
   "outputs": [],
   "source": [
    "import math\n",
    "from typing import List, Dict, Tuple\n",
    "from collections import namedtuple, defaultdict\n",
    "Coords = namedtuple('Coords', ['x', 'y'])\n",
    "\n",
    "def read_node_coords(filename='USA-road-d.FLA.co') -> List[int]:\n",
    "    node_coords = []\n",
    "    \n",
    "    with open(filename, 'r') as coord_file:\n",
    "        for line in coord_file:\n",
    "            if line.startswith('v '):\n",
    "                node_number, x, y = map(int, line.split()[1:])\n",
    "                node_coords.append(Coords(x, y))\n",
    "    \n",
    "    minx = min(c.x for c in node_coords)\n",
    "    miny = min(c.y for c in node_coords)\n",
    "    for i, c in enumerate(node_coords):\n",
    "        node_coords[i] = Coords(c.x-minx, c.y-miny)\n",
    "    \n",
    "    return node_coords\n",
    "\n",
    "\n",
    "def read_arcs(filename='USA-road-t.FLA.gr') -> Dict[int, Dict[int, float]]:\n",
    "    adjacency_lists = defaultdict(dict)\n",
    "    \n",
    "    with open(filename, 'r') as coord_file:\n",
    "        for line in coord_file:\n",
    "            if line.startswith('a '):\n",
    "                node_from, node_to, weight = map(int, line.split()[1:])\n",
    "                adjacency_lists[node_from-1][node_to-1] = weight\n",
    "                \n",
    "    return adjacency_lists"
   ]
  },
  {
   "cell_type": "markdown",
   "metadata": {},
   "source": [
    "Реализуйте процедуру `good_old_dijkstra`, которая для пары номеров вершин графа ищет кратчайший путь между ними и возвращает список номеров вершин, образующих оптимальный путь и его длину."
   ]
  },
  {
   "cell_type": "code",
   "execution_count": 10,
   "metadata": {
    "collapsed": true
   },
   "outputs": [],
   "source": [
    "\n",
    "import queue\n",
    "\n",
    "def good_old_dijkstra(adjacency_lists, node_from, node_to):    \n",
    "    \n",
    "    q = queue.PriorityQueue()\n",
    "    parent = {}\n",
    "    dist = {}\n",
    "    \n",
    "    for v in adjacency_lists:\n",
    "        parent[v] = -1\n",
    "        dist[v] = math.inf    \n",
    "    \n",
    "    dist[node_from] = 0\n",
    "    q.put((0, node_from))\n",
    "    while not q.empty():\n",
    "        cur_dist, cur_v = q.get()\n",
    "        for v in adjacency_lists[cur_v]:\n",
    "            if cur_dist + adjacency_lists[cur_v][v] < dist[v]:\n",
    "                dist[v] = cur_dist + adjacency_lists[cur_v][v]\n",
    "                parent[v] = cur_v\n",
    "                q.put((cur_dist + adjacency_lists[cur_v][v], v))\n",
    "\n",
    "    cur = node_to\n",
    "    to_return = [] # восстановление пути\n",
    "    while cur != -1:\n",
    "        to_return.append(cur)\n",
    "        cur = parent[cur]\n",
    "    to_return.reverse()\n",
    "    return (to_return, dist[node_to])\n",
    "\n",
    "\n"
   ]
  },
  {
   "cell_type": "code",
   "execution_count": 3,
   "metadata": {
    "collapsed": false
   },
   "outputs": [
    {
     "name": "stdout",
     "output_type": "stream",
     "text": [
      "Wall time: 52.4 s\n"
     ]
    }
   ],
   "source": [
    "%%time\n",
    "adj = read_arcs()\n",
    "coords = read_node_coords()"
   ]
  },
  {
   "cell_type": "markdown",
   "metadata": {},
   "source": [
    "Реализуйте тройку процедур `choose_landmarks`, `precalculate_landmark_distances` и `a_star_with_landmarks`. Процедура `choose_landmarks` выбирает нужное количество специальных вершин графа — этот выбор делается равномерным выбором по периметру графа (см. слайд 30 в [презентации](http://logic.pdmi.ras.ru/midas/sites/default/files/midas-werneck.pdf)). Процедура `precalculate_landmark_distances` для каждой вершины из заданного набора с помощью обычного алгоритма Дейкстры вычисляет расстояния до всех вершин графа. Эта информация затем используется в `a_star_with_landmarks` для ускорения поиска кратчайшего пути."
   ]
  },
  {
   "cell_type": "code",
   "execution_count": 22,
   "metadata": {
    "collapsed": true
   },
   "outputs": [],
   "source": [
    "def dist(v1, v2):\n",
    "        return math.sqrt((v1.x - v2.x)*(v1.x - v2.x) + (v1.y - v2.y)*(v1.y - v2.y))\n",
    "\n",
    "def angle(v, center):\n",
    "    alpha = math.atan2(v.x - center[0], v.y - center[1])\n",
    "    if alpha < 0:\n",
    "        alpha += 2 * math.pi\n",
    "\n",
    "from numpy import arctan2    \n",
    "    \n",
    "def choose_landmarks(node_coords, num_landmarks=15) -> List[int]:\n",
    "    \n",
    "    center = [sum([v.x for v in node_coords]) / len(node_coords),\n",
    "            sum([v.y for v in node_coords]) / len(node_coords)]\n",
    "    \n",
    "    sectors = [[-1, 1] for i in range(num_landmarks)]\n",
    "    \n",
    "    landmarks = []\n",
    "    for i in range(len(node_coords)): # распределим по секторам\n",
    "        sector_num = int(angle(node_coords[i], center) * num_landmarks / (2 * math.pi))\n",
    "        sectors[sector_num].append((v, i))\n",
    "        \n",
    "    for sector in sectors: # ищем в секторе лучшую\n",
    "        best = sector[0][0]\n",
    "        for v, num in sector:\n",
    "            if dist(v, Coords(center[0], center[1])) < dist(best, Coords(center[0], center[1])):\n",
    "                best = v\n",
    "        landmarks.append(num)\n",
    "    \n",
    "    return landmarks\n",
    "\n",
    "    "
   ]
  },
  {
   "cell_type": "code",
   "execution_count": 23,
   "metadata": {
    "collapsed": true
   },
   "outputs": [],
   "source": [
    "\n",
    "def precalculate_landmark_distances(adjacency_lists: Dict[int, Dict[int, float]], landmarks: List[int]) -> Dict[int, Dict[int, float]]:\n",
    "    ddist = {}\n",
    "    for i in range(len(landmarks)):\n",
    "        node_from = landmarks[i]\n",
    "        q = queue.PriorityQueue()\n",
    "        parent = {}\n",
    "        dist = {}\n",
    "    \n",
    "        for v in adjacency_lists:\n",
    "            parent[v] = -1\n",
    "            dist[v] = math.inf    \n",
    "\n",
    "        dist[node_from] = 0\n",
    "        q.put((0, node_from))\n",
    "        while not q.empty():\n",
    "            cur_dist, cur_v = q.get()\n",
    "            for v in adjacency_lists[cur_v]:\n",
    "                if cur_dist + adjacency_lists[cur_v][v] < dist[v]:\n",
    "                    dist[v] = cur_dist + adjacency_lists[cur_v][v]\n",
    "                    parent[v] = cur_v\n",
    "                    q.put((cur_dist + adjacency_lists[cur_v][v], v))\n",
    "\n",
    "        ddist[i] = dist\n",
    "    return ddist\n",
    "        \n"
   ]
  },
  {
   "cell_type": "code",
   "execution_count": 24,
   "metadata": {
    "collapsed": true
   },
   "outputs": [],
   "source": [
    "def a_star_with_landmarks(adjacency_lists: Dict[int, Dict[int, float]], node_from, node_to, landmark_distances: Dict[int, Dict[int, float]]) -> Tuple[List[int], float]:\n",
    "    \n",
    "    q = queue.PriorityQueue()\n",
    "    parent = {}\n",
    "    dist = {}\n",
    "    real_dist = {}\n",
    "    \n",
    "    for v in adjacency_lists:\n",
    "        parent[v] = -1\n",
    "        dist[v] = math.inf    \n",
    "    \n",
    "    dist[node_from] = 0\n",
    "    real_dist[node_from] = 0\n",
    "    q.put((0, node_from))\n",
    "    while not q.empty():\n",
    "        cur_dist, cur_v = q.get()\n",
    "        if cur_v == node_to:\n",
    "            break   \n",
    "        for v in adjacency_lists[cur_v]:\n",
    "            best = 0\n",
    "            for ld in landmark_distances:\n",
    "                best = max(res, abs(landmark_distances[ld][v] - landmark_distances[ld][node_to]))\n",
    "            if real_dist[cur_v] + adjacency_lists[cur_v][v] + best < dist[v]:\n",
    "                real_dist[v] = real_dist[cur_v] + adjacency_lists[cur_v][v] + best\n",
    "                dist[v] = real_dist[cur_v] + adjacency_lists[cur_v][v]\n",
    "                parent[v] = cur_v\n",
    "                q.put((cur_dist + adjacency_lists[cur_v][v], v))\n",
    "\n",
    "    cur = node_to\n",
    "    to_return = [] # восстановление пути\n",
    "    while cur != -1:\n",
    "        to_return.append(cur)\n",
    "        cur = parent[cur]\n",
    "    to_return.reverse()\n",
    "    return (to_return, real_dist[node_to])"
   ]
  },
  {
   "cell_type": "code",
   "execution_count": 25,
   "metadata": {
    "collapsed": true
   },
   "outputs": [],
   "source": [
    "import time\n",
    "from random import randrange\n",
    "\n",
    "def run_all():\n",
    "    node_coords = read_node_coords()\n",
    "    adjacency_lists = read_arcs()\n",
    "    num_nodes = len(node_coords)\n",
    "    \n",
    "    time_start = time.monotonic()\n",
    "    landmark_distances = precalculate_landmark_distances(choose_landmarks(node_coords))\n",
    "    print('Precalculation done in {:.2} seconds.'.format(time.monotonic() - time_start))\n",
    "    \n",
    "    time_dijkstra = 0\n",
    "    time_a_star = 0\n",
    "    \n",
    "    num_tests = 100\n",
    "    for _ in range(num_tests):\n",
    "        node_from, node_to = randrange(num_nodes), randrange(num_nodes)\n",
    "        time_start = time.monotonic()\n",
    "        good_old_dijkstra(adjacency_lists, node_from, node_to)\n",
    "        time_dijkstra += time.monotonic()-time_start\n",
    "        time_start = time.monotonic()\n",
    "        a_star_with_landmarks(adjacency_lists, node_from, node_to, landmark_distances)\n",
    "        time_a_star += time.monotonic()-time_start\n",
    "    \n",
    "    print('Time elapsed in {} test: {:.2} second for A* vs. {:.2} seconds for Dijkstra.'.format(num_tests, time_a_star, time_dijkstra))"
   ]
  },
  {
   "cell_type": "code",
   "execution_count": null,
   "metadata": {
    "collapsed": false
   },
   "outputs": [],
   "source": [
    "run_all()"
   ]
  },
  {
   "cell_type": "code",
   "execution_count": null,
   "metadata": {
    "collapsed": true
   },
   "outputs": [],
   "source": []
  }
 ],
 "metadata": {
  "kernelspec": {
   "display_name": "Python 3",
   "language": "python",
   "name": "python3"
  },
  "language_info": {
   "codemirror_mode": {
    "name": "ipython",
    "version": 3
   },
   "file_extension": ".py",
   "mimetype": "text/x-python",
   "name": "python",
   "nbconvert_exporter": "python",
   "pygments_lexer": "ipython3",
   "version": "3.6.0"
  }
 },
 "nbformat": 4,
 "nbformat_minor": 1
}
